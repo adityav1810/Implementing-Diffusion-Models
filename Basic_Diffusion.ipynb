{
  "nbformat": 4,
  "nbformat_minor": 0,
  "metadata": {
    "colab": {
      "provenance": []
    },
    "kernelspec": {
      "name": "python3",
      "display_name": "Python 3"
    },
    "language_info": {
      "name": "python"
    }
  },
  "cells": [
    {
      "cell_type": "code",
      "execution_count": 1,
      "metadata": {
        "id": "TFXGQeG0E554"
      },
      "outputs": [],
      "source": [
        "import os\n",
        "import torch\n",
        "import torch.nn as nn\n",
        "from matplotlib import pyplot as plt\n",
        "from torch import optim\n",
        "from tqdm import tqdm"
      ]
    },
    {
      "cell_type": "code",
      "source": [
        "import logging\n",
        "logging.basicConfig(format = \"%(asctime)s - %(levelname)s: %(message)s\",level = logging.INFO,datefmt=\"%I:%M:%S\")"
      ],
      "metadata": {
        "id": "tlKimiHrFTT3"
      },
      "execution_count": 2,
      "outputs": []
    },
    {
      "cell_type": "code",
      "source": [
        "class Diffusion:\n",
        "  '''\n",
        "  Class to setup utils and necessary functions needed to build a basic diffusion model\n",
        "  Params are the same as presented in the original paper(https://arxiv.org/abs/2006.11239)\n",
        "\n",
        "  '''\n",
        "  def __init(self,noise_steps = 1000,beta_start = 1e-4,beta_end = 0.02,img_size = 64,device=\"cuda\"):\n",
        "    '''\n",
        "    Initialise variables generate noise \n",
        "    beta is used to generate noise; alpha = 1-beta \n",
        "    \n",
        "    '''\n",
        "    self.noise_steps = noise_steps\n",
        "    self.beta_start = beta_start\n",
        "    self.beta_end = beta_end\n",
        "    self.img_size = img_size\n",
        "    self.device = device\n",
        "\n",
        "    self.beta = self.prepare_noise_schedule().to(device)\n",
        "    self.alpha = 1-self.beta\n",
        "    self.alpha_hat = torch.cumprod(self.alpha,dim =0)\n",
        "  def prepare_noise_schedule(self):\n",
        "    return torch.linspace(self.beta_start,self.beta_end,self.noise_step)\n",
        "\n",
        "  def noise_images(self,x,t):\n",
        "    '''\n",
        "    Function which creates noise in images. [FORWARDS DIFFUSION PROCESS]\n",
        "    Instead of adding noise at each timestep, we can directly reach at final timestep (t) \n",
        "\n",
        "    Returns : sqrt(alpha_hat) * X + sqrt(1-alpha_hat) * noise and noise\n",
        "    '''\n",
        "    sqrt_alpha_hat = torch.sqrt(self.alpha_hat[t])[:,None,None,None]\n",
        "    sqrt_one_minus_alpha_hat = torch.sqrt(1.-self.alpha_hat[t])[:,None,None,None]\n",
        "    e = torch.rand_like(x)\n",
        "    return sqrt_alpha_hat * x + sqrt_one_minus_alpha_hat * e , e\n",
        "\n",
        "  def sample(self,model,n):\n",
        "    logging.info(f\"Sampling {n} new images...\")\n",
        "    model.eval()\n",
        "    with torch.no_grad():\n",
        "      x = torch.randn((n,3,self.img_size,self.img_size)).to(self.device)\n",
        "      for i in tqdm(reversed(range(1,self.noise_steps)),position = 0):\n",
        "        t = (torch.ones(n) * i).long().to(self.device)\n",
        "        predicted_noise = model(x,t)\n",
        "        alpha = self.alpha[t][:,None,None,None]\n",
        "        alpha_hat = self.alpha_hat[t][:,None,None,None]\n",
        "        beta = self.beta[t][:,None,None,None]\n",
        "        if(i>1):\n",
        "          # Noise of each timestep ; final timestep will be clear image hence no noise\n",
        "          noise  =torch.randn_like(x)\n",
        "        else:\n",
        "          noise = torch.zeros_like(x)\n",
        "        x = 1/torch.sqrt(alpha) * (x - ((1-alpha) / (torch.sqrt(1-alpha_hat))) * predicted_noise) + torch.sqrt(beta) * noise\n",
        "    model.train()\n",
        "    x = (x.clamp(-1,1) + 1) / 2\n",
        "    x = (x * 255).type(torch.uint8)\n",
        "    return x\n",
        "\n",
        "\n",
        "\n",
        "\n",
        "\n",
        "\n",
        "\n",
        "\n",
        "\n"
      ],
      "metadata": {
        "id": "F8PepobWFrid"
      },
      "execution_count": null,
      "outputs": []
    },
    {
      "cell_type": "code",
      "source": [
        "class UNet(nn.Module):\n",
        "  '''\n",
        "  Constructs UNet Architecture which is used in the Original Paper\n",
        "  Uses Attention  and Conv blocks to prepare the encoder - decoder type structure of the Diffusion Model\n",
        "\n",
        "  '''\n",
        "\n",
        "  def __init__(self,c_in = 3,c_out = 3,time_dim = 256,device = \"cuda\"):\n",
        "    super().__init__()\n",
        "    self.device = device\n",
        "    self.time_dim  = time_dim\n",
        "    self.inc = DoubleConv(c_in,64)\n",
        "    self.down1 = Down(64,128)\n",
        "    self.sa2 = SelfAttention(128,32)\n",
        "    self.down2 = Down(128,256)\n",
        "    self.sa2 = SelfAttention(256,16)\n",
        "    self.down3 = Down(256,256)\n",
        "    self.sa3 = SelfAttention(256,8)\n",
        "\n",
        "    self.bot1 = DoubeConv(256,512)\n",
        "    self.bot2 = DoubeConv(512,512)\n",
        "    self.bot3 = DoubleConv(512,256)\n",
        "\n",
        "    self.up1 = Up(512,128)\n",
        "    self.sa4 = SelfAttention(128,16)\n",
        "    self.up2 = Up(256,64)\n",
        "    self.sa5 = SelfAttention(64,32)\n",
        "    self.up3 = Up(128,64)\n",
        "    self.sa6 = SelfAttention(64,64)\n",
        "    self.outc = nn.Conv2d(64,c_out,kernel_size = 1)\n",
        "  def pos_encoding(self,t,channels):\n",
        "    '''\n",
        "    9:28\n",
        "    '''\n",
        "\n",
        "\n",
        "\n"
      ],
      "metadata": {
        "id": "6mdf0cGaQrPE"
      },
      "execution_count": null,
      "outputs": []
    },
    {
      "cell_type": "code",
      "source": [],
      "metadata": {
        "id": "0EqIVMH6QrRk"
      },
      "execution_count": null,
      "outputs": []
    },
    {
      "cell_type": "code",
      "source": [],
      "metadata": {
        "id": "NuLwgFPFQrTf"
      },
      "execution_count": null,
      "outputs": []
    },
    {
      "cell_type": "code",
      "source": [],
      "metadata": {
        "id": "JjApJz15QrVx"
      },
      "execution_count": null,
      "outputs": []
    },
    {
      "cell_type": "code",
      "source": [],
      "metadata": {
        "id": "iFvoqA13QrYC"
      },
      "execution_count": null,
      "outputs": []
    }
  ]
}